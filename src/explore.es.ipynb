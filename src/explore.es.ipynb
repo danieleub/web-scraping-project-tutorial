{
    "cells": [
        {
            "cell_type": "markdown",
            "metadata": {},
            "source": [
                "# Explora aquí\n",
                "\n",
                "Se recomienda utilizar este cuaderno con fines de exploración."
            ]
        },
        {
            "cell_type": "code",
            "execution_count": 5,
            "metadata": {},
            "outputs": [],
            "source": [
                "import os\n",
                "from bs4 import BeautifulSoup\n",
                "import requests\n",
                "import time\n",
                "import sqlite3\n",
                "import matplotlib.pyplot as plt\n",
                "import seaborn as sns\n",
                "import pandas as pd\n",
                "import io"
            ]
        },
        {
            "cell_type": "code",
            "execution_count": 6,
            "metadata": {},
            "outputs": [],
            "source": [
                "url =\"https://es.wikipedia.org/wiki/Caballeros_Reales_(Digimon)#:~:text=Los%20Caballeros%20Reales%20(%E3%83%AD%E3%82%A4%E3%83%A4%E3%83%AB%E3%83%8A%E3%82%A4%E3%83%84,la%20era%20mitol%C3%B3gica%20del%20Digimundo.\"\n",
                "response = requests.get(url)\n",
                "\n",
                "if response:\n",
                "    sopa = BeautifulSoup(response.text, 'html')\n",
                "#sopa"
            ]
        },
        {
            "cell_type": "code",
            "execution_count": 7,
            "metadata": {},
            "outputs": [
                {
                    "name": "stdout",
                    "output_type": "stream",
                    "text": [
                        "Se encontraron 3 tablas.\n"
                    ]
                }
            ],
            "source": [
                "html = io.StringIO(response.text)\n",
                "tables = pd.read_html(html)\n",
                "print(f\"Se encontraron {len(tables)} tablas.\")"
            ]
        },
        {
            "cell_type": "code",
            "execution_count": 8,
            "metadata": {},
            "outputs": [
                {
                    "data": {
                        "text/html": [
                            "<div>\n",
                            "<style scoped>\n",
                            "    .dataframe tbody tr th:only-of-type {\n",
                            "        vertical-align: middle;\n",
                            "    }\n",
                            "\n",
                            "    .dataframe tbody tr th {\n",
                            "        vertical-align: top;\n",
                            "    }\n",
                            "\n",
                            "    .dataframe thead th {\n",
                            "        text-align: right;\n",
                            "    }\n",
                            "</style>\n",
                            "<table border=\"1\" class=\"dataframe\">\n",
                            "  <thead>\n",
                            "    <tr style=\"text-align: right;\">\n",
                            "      <th></th>\n",
                            "      <th>Nombre USA</th>\n",
                            "      <th>Nombre original</th>\n",
                            "      <th>Katakana</th>\n",
                            "      <th>¿Cómo nacen?</th>\n",
                            "    </tr>\n",
                            "  </thead>\n",
                            "  <tbody>\n",
                            "    <tr>\n",
                            "      <th>0</th>\n",
                            "      <td>Omnimon</td>\n",
                            "      <td>Omegamon</td>\n",
                            "      <td>オメガモン</td>\n",
                            "      <td>la Evolución Jogress de WarGreymon y MetalGaru...</td>\n",
                            "    </tr>\n",
                            "  </tbody>\n",
                            "</table>\n",
                            "</div>"
                        ],
                        "text/plain": [
                            "  Nombre USA Nombre original Katakana  \\\n",
                            "0    Omnimon        Omegamon    オメガモン   \n",
                            "\n",
                            "                                        ¿Cómo nacen?  \n",
                            "0  la Evolución Jogress de WarGreymon y MetalGaru...  "
                        ]
                    },
                    "execution_count": 8,
                    "metadata": {},
                    "output_type": "execute_result"
                }
            ],
            "source": [
                "df = tables[1]\n",
                "df.head(1)"
            ]
        },
        {
            "cell_type": "code",
            "execution_count": 9,
            "metadata": {},
            "outputs": [
                {
                    "data": {
                        "text/html": [
                            "<div>\n",
                            "<style scoped>\n",
                            "    .dataframe tbody tr th:only-of-type {\n",
                            "        vertical-align: middle;\n",
                            "    }\n",
                            "\n",
                            "    .dataframe tbody tr th {\n",
                            "        vertical-align: top;\n",
                            "    }\n",
                            "\n",
                            "    .dataframe thead th {\n",
                            "        text-align: right;\n",
                            "    }\n",
                            "</style>\n",
                            "<table border=\"1\" class=\"dataframe\">\n",
                            "  <thead>\n",
                            "    <tr style=\"text-align: right;\">\n",
                            "      <th></th>\n",
                            "      <th>Nombre USA</th>\n",
                            "      <th>Nombre original</th>\n",
                            "      <th>Katakana</th>\n",
                            "      <th>Origen</th>\n",
                            "      <th>Poder</th>\n",
                            "      <th>Año debut</th>\n",
                            "    </tr>\n",
                            "  </thead>\n",
                            "  <tbody>\n",
                            "    <tr>\n",
                            "      <th>0</th>\n",
                            "      <td>Omnimon</td>\n",
                            "      <td>Omegamon</td>\n",
                            "      <td>オメガモン</td>\n",
                            "      <td>la Evolución Jogress de WarGreymon y MetalGaru...</td>\n",
                            "      <td>171</td>\n",
                            "      <td>2004</td>\n",
                            "    </tr>\n",
                            "    <tr>\n",
                            "      <th>1</th>\n",
                            "      <td>Magnamon</td>\n",
                            "      <td>Magnamon</td>\n",
                            "      <td>マグナモン</td>\n",
                            "      <td>la Armodigievolución con el Digi-egg de los Mi...</td>\n",
                            "      <td>114</td>\n",
                            "      <td>2005</td>\n",
                            "    </tr>\n",
                            "    <tr>\n",
                            "      <th>2</th>\n",
                            "      <td>Gallantmon</td>\n",
                            "      <td>Dukemon</td>\n",
                            "      <td>デュークモン</td>\n",
                            "      <td>La evolución Matrix/La digievolución mega de G...</td>\n",
                            "      <td>124</td>\n",
                            "      <td>2007</td>\n",
                            "    </tr>\n",
                            "    <tr>\n",
                            "      <th>3</th>\n",
                            "      <td>Dynasmon</td>\n",
                            "      <td>Dynasmon</td>\n",
                            "      <td>デュナスモン</td>\n",
                            "      <td>Viene de la digievolución mega de Candlemon</td>\n",
                            "      <td>190</td>\n",
                            "      <td>2004</td>\n",
                            "    </tr>\n",
                            "    <tr>\n",
                            "      <th>4</th>\n",
                            "      <td>Crusadermon</td>\n",
                            "      <td>LordKnightmon</td>\n",
                            "      <td>ロードナイトモン</td>\n",
                            "      <td>Viene de la digievolución mega de Knightmon</td>\n",
                            "      <td>194</td>\n",
                            "      <td>2006</td>\n",
                            "    </tr>\n",
                            "    <tr>\n",
                            "      <th>5</th>\n",
                            "      <td>UlforceVeedramon</td>\n",
                            "      <td>Ulforce V-dramon</td>\n",
                            "      <td>アルフォースブイドラモン</td>\n",
                            "      <td>Viene de la digievolución mega de Veemon</td>\n",
                            "      <td>137</td>\n",
                            "      <td>2007</td>\n",
                            "    </tr>\n",
                            "    <tr>\n",
                            "      <th>6</th>\n",
                            "      <td>Alphamon</td>\n",
                            "      <td>Alphamon</td>\n",
                            "      <td>アルファモン</td>\n",
                            "      <td>Viene de la digievolución mega de Dorumon</td>\n",
                            "      <td>186</td>\n",
                            "      <td>2004</td>\n",
                            "    </tr>\n",
                            "    <tr>\n",
                            "      <th>7</th>\n",
                            "      <td>Craniamon</td>\n",
                            "      <td>Craniummon</td>\n",
                            "      <td>クレニアムモン</td>\n",
                            "      <td>es el Burst Mode de HiAndromon</td>\n",
                            "      <td>195</td>\n",
                            "      <td>2004</td>\n",
                            "    </tr>\n",
                            "    <tr>\n",
                            "      <th>8</th>\n",
                            "      <td>Kentaurosmon</td>\n",
                            "      <td>Sleipmon</td>\n",
                            "      <td>スレイプモン</td>\n",
                            "      <td>Es la digievolución mega de Kudamon</td>\n",
                            "      <td>140</td>\n",
                            "      <td>2006</td>\n",
                            "    </tr>\n",
                            "    <tr>\n",
                            "      <th>9</th>\n",
                            "      <td>Leopardmon</td>\n",
                            "      <td>Duftmon</td>\n",
                            "      <td>ドゥフトモン</td>\n",
                            "      <td>Se dice que es la evolución mega de Leormon o ...</td>\n",
                            "      <td>122</td>\n",
                            "      <td>2005</td>\n",
                            "    </tr>\n",
                            "    <tr>\n",
                            "      <th>10</th>\n",
                            "      <td>Examon</td>\n",
                            "      <td>Examon</td>\n",
                            "      <td>エグザモン</td>\n",
                            "      <td>Se dice que es la Evolución Jogress de Slayerd...</td>\n",
                            "      <td>193</td>\n",
                            "      <td>2007</td>\n",
                            "    </tr>\n",
                            "    <tr>\n",
                            "      <th>11</th>\n",
                            "      <td>Gankoomon</td>\n",
                            "      <td>Gankoomon</td>\n",
                            "      <td>ガンクゥモン</td>\n",
                            "      <td>Desconocido</td>\n",
                            "      <td>116</td>\n",
                            "      <td>2005</td>\n",
                            "    </tr>\n",
                            "    <tr>\n",
                            "      <th>12</th>\n",
                            "      <td>Jesmon</td>\n",
                            "      <td>Jesmon</td>\n",
                            "      <td>ジエスモン</td>\n",
                            "      <td>Viene de la digievolución mega de Hackmon.</td>\n",
                            "      <td>115</td>\n",
                            "      <td>2005</td>\n",
                            "    </tr>\n",
                            "  </tbody>\n",
                            "</table>\n",
                            "</div>"
                        ],
                        "text/plain": [
                            "          Nombre USA   Nombre original      Katakana  \\\n",
                            "0            Omnimon          Omegamon         オメガモン   \n",
                            "1           Magnamon          Magnamon         マグナモン   \n",
                            "2         Gallantmon           Dukemon        デュークモン   \n",
                            "3           Dynasmon          Dynasmon        デュナスモン   \n",
                            "4        Crusadermon     LordKnightmon      ロードナイトモン   \n",
                            "5   UlforceVeedramon  Ulforce V-dramon  アルフォースブイドラモン   \n",
                            "6           Alphamon          Alphamon        アルファモン   \n",
                            "7          Craniamon        Craniummon       クレニアムモン   \n",
                            "8       Kentaurosmon          Sleipmon        スレイプモン   \n",
                            "9         Leopardmon           Duftmon        ドゥフトモン   \n",
                            "10            Examon            Examon         エグザモン   \n",
                            "11         Gankoomon         Gankoomon        ガンクゥモン   \n",
                            "12            Jesmon            Jesmon         ジエスモン   \n",
                            "\n",
                            "                                               Origen  Poder  Año debut  \n",
                            "0   la Evolución Jogress de WarGreymon y MetalGaru...    171       2004  \n",
                            "1   la Armodigievolución con el Digi-egg de los Mi...    114       2005  \n",
                            "2   La evolución Matrix/La digievolución mega de G...    124       2007  \n",
                            "3         Viene de la digievolución mega de Candlemon    190       2004  \n",
                            "4         Viene de la digievolución mega de Knightmon    194       2006  \n",
                            "5            Viene de la digievolución mega de Veemon    137       2007  \n",
                            "6           Viene de la digievolución mega de Dorumon    186       2004  \n",
                            "7                      es el Burst Mode de HiAndromon    195       2004  \n",
                            "8                 Es la digievolución mega de Kudamon    140       2006  \n",
                            "9   Se dice que es la evolución mega de Leormon o ...    122       2005  \n",
                            "10  Se dice que es la Evolución Jogress de Slayerd...    193       2007  \n",
                            "11                                        Desconocido    116       2005  \n",
                            "12         Viene de la digievolución mega de Hackmon.    115       2005  "
                        ]
                    },
                    "execution_count": 9,
                    "metadata": {},
                    "output_type": "execute_result"
                }
            ],
            "source": [
                "import random\n",
                "import numpy as np\n",
                "\n",
                "df.columns = [\"Nombre USA\", \"Nombre original\", \"Katakana\", \"Origen\"]\n",
                "\n",
                "\n",
                "df['Poder'] = np.random.randint(100, 201, size=len(df))\n",
                "df['Año debut'] = np.random.randint(2004, 2008, size=len(df))\n",
                "\n",
                "df"
            ]
        },
        {
            "cell_type": "code",
            "execution_count": 10,
            "metadata": {},
            "outputs": [
                {
                    "name": "stdout",
                    "output_type": "stream",
                    "text": [
                        "Rows inserted: 13\n"
                    ]
                }
            ],
            "source": [
                "conn = sqlite3.connect(\"digimon.db\")\n",
                "\n",
                "df.to_sql(\"royalknights\", conn, if_exists=\"replace\", index=False)\n",
                "cursor = conn.cursor()\n",
                "\n",
                "cursor.execute(\"SELECT COUNT(*) FROM royalknights\")\n",
                "print(\"Rows inserted:\", cursor.fetchone()[0])\n",
                "\n",
                "conn.commit()\n",
                "conn.close()"
            ]
        },
        {
            "cell_type": "code",
            "execution_count": 11,
            "metadata": {},
            "outputs": [
                {
                    "data": {
                        "image/png": "[encoded data removed]",
                        "text/plain": [
                            "<Figure size 1200x600 with 1 Axes>"
                        ]
                    },
                    "metadata": {},
                    "output_type": "display_data"
                }
            ],
            "source": [
                "top_poder = df.nlargest(3, \"Poder\")\n",
                "plt.figure(figsize=(12, 6))\n",
                "sns.barplot(data=top_poder, x=\"Poder\", y=\"Nombre original\", hue=\"Nombre original\", palette=\"viridis\", legend=False)\n",
                "plt.title(\"Top 3 RK mas poderosos\")\n",
                "plt.xlabel(\"Poder\")\n",
                "plt.ylabel(\"RK\")\n",
                "plt.tight_layout()\n",
                "plt.show()"
            ]
        },
        {
            "cell_type": "code",
            "execution_count": 12,
            "metadata": {},
            "outputs": [
                {
                    "data": {
                        "image/png": "[encoded data removed]",
                        "text/plain": [
                            "<Figure size 1000x500 with 1 Axes>"
                        ]
                    },
                    "metadata": {},
                    "output_type": "display_data"
                }
            ],
            "source": [
                "plt.figure(figsize=(10, 5))\n",
                "sns.countplot(data=df, x=\"Año debut\", order=sorted(df[\"Año debut\"].dropna().unique()))\n",
                "plt.title(\"Cantidad de debuts por año\")\n",
                "plt.xlabel(\"Año\")\n",
                "plt.ylabel(\"Cantidad\")\n",
                "plt.xticks(rotation=45)\n",
                "plt.tight_layout()\n",
                "plt.show()"
            ]
        }
    ],
    "metadata": {
        "kernelspec": {
            "display_name": "Python 3",
            "language": "python",
            "name": "python3"
        },
        "language_info": {
            "codemirror_mode": {
                "name": "ipython",
                "version": 3
            },
            "file_extension": ".py",
            "mimetype": "text/x-python",
            "name": "python",
            "nbconvert_exporter": "python",
            "pygments_lexer": "ipython3",
            "version": "3.11.4"
        },
        "orig_nbformat": 4
    },
    "nbformat": 4,
    "nbformat_minor": 2
}
